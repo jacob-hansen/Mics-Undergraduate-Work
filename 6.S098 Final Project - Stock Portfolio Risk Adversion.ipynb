{
 "cells": [
  {
   "cell_type": "markdown",
   "metadata": {},
   "source": [
    "# Setup"
   ]
  },
  {
   "cell_type": "markdown",
   "metadata": {},
   "source": [
    "For my 6.S098 Final Project, I worked in collaboration with Andres Arroyo (Class Listener) to develop a risk adverse stock portfolio generator. The initial goal was to use stock variation to speculate which stocks vary together and diversify a stock portfolio across different investments. We only used data from Yahoo on the top 100 S&P 500 companies. A more rigirous approach to the problem would be using investment strageties across many types of investments, such as other stocks, bonds, mutual funds, and index traded funds and generate future data about market crashes and probable worst-case finance situations. \n",
    "\n",
    "Outline: \n",
    "In our setup, we first generated an initial porfolio based on market data for the top 10 S&P500 stocks based on a risk adversion parameter λ. We also tested adding an additional constraint \"WeightRange\", which constricts the maximum amount one can invest in any one company. This allows for some flexibility in the stock choice, but not that the most optimal solution for just risk adversion would result from simply increasing λ. Interestingly, increasing λ to extremely high values (like 1-10^-8) still does not nessasarily result in an even distribution between all stocks. This is likely because there are certain stocks to pick that have little variance. "
   ]
  },
  {
   "cell_type": "code",
   "execution_count": 1,
   "metadata": {},
   "outputs": [],
   "source": [
    "using Plots, LinearAlgebra, Convex, SCS, Random, Dates "
   ]
  },
  {
   "cell_type": "markdown",
   "metadata": {},
   "source": [
    "# Market Data"
   ]
  },
  {
   "cell_type": "code",
   "execution_count": 6,
   "metadata": {},
   "outputs": [],
   "source": [
    "using StaticArrays\n",
    "using MarketData\n",
    "import Statistics as stats\n",
    "using NLopt\n",
    "using ForwardDiff"
   ]
  },
  {
   "cell_type": "code",
   "execution_count": 226,
   "metadata": {},
   "outputs": [
    {
     "name": "stderr",
     "output_type": "stream",
     "text": [
      "┌ Warning: `missingstrings` keyword argument is deprecated; pass a `Vector{String}` to `missingstring` instead\n",
      "└ @ CSV /Users/jacobhansen/.julia/packages/CSV/0Elut/src/context.jl:266\n"
     ]
    },
    {
     "data": {
      "text/plain": [
       "504×6 TimeArray{Float64, 2, Date, Matrix{Float64}} 2020-01-27 to 2022-01-24\n",
       "│            │ Open    │ High    │ Low     │ Close   │ AdjClose │ Volume     │\n",
       "├────────────┼─────────┼─────────┼─────────┼─────────┼──────────┼────────────┤\n",
       "│ 2020-01-27 │ 77.515  │ 77.9425 │ 76.22   │ 77.2375 │ 76.107   │ 1.6194e8   │\n",
       "│ 2020-01-28 │ 78.15   │ 79.6    │ 78.0475 │ 79.4225 │ 78.26    │ 1.62234e8  │\n",
       "│ 2020-01-29 │ 81.1125 │ 81.9625 │ 80.345  │ 81.085  │ 79.8982  │ 2.162292e8 │\n",
       "│ 2020-01-30 │ 80.135  │ 81.0225 │ 79.6875 │ 80.9675 │ 79.7824  │ 1.267432e8 │\n",
       "│ 2020-01-31 │ 80.2325 │ 80.67   │ 77.0725 │ 77.3775 │ 76.245   │ 1.995884e8 │\n",
       "│ 2020-02-03 │ 76.075  │ 78.3725 │ 75.555  │ 77.165  │ 76.0356  │ 1.737884e8 │\n",
       "│ 2020-02-04 │ 78.8275 │ 79.91   │ 78.4075 │ 79.7125 │ 78.5458  │ 1.366164e8 │\n",
       "│ 2020-02-05 │ 80.88   │ 81.19   │ 79.7375 │ 80.3625 │ 79.1863  │ 1.188268e8 │\n",
       "│ ⋮          │ ⋮       │ ⋮       │ ⋮       │ ⋮       │ ⋮        │ ⋮          │\n",
       "│ 2022-01-13 │ 175.78  │ 176.62  │ 171.79  │ 172.19  │ 172.19   │ 8.45058e7  │\n",
       "│ 2022-01-14 │ 171.34  │ 173.78  │ 171.09  │ 173.07  │ 173.07   │ 8.0355e7   │\n",
       "│ 2022-01-18 │ 171.51  │ 172.54  │ 169.41  │ 169.8   │ 169.8    │ 9.09567e7  │\n",
       "│ 2022-01-19 │ 170.0   │ 171.08  │ 165.94  │ 166.23  │ 166.23   │ 9.4815e7   │\n",
       "│ 2022-01-20 │ 166.98  │ 169.68  │ 164.18  │ 164.51  │ 164.51   │ 9.14205e7  │\n",
       "│ 2022-01-21 │ 164.42  │ 166.33  │ 162.3   │ 162.41  │ 162.41   │ 1.225013e8 │\n",
       "│ 2022-01-24 │ 160.02  │ 162.3   │ 154.7   │ 161.62  │ 161.62   │ 1.622946e8 │"
      ]
     },
     "metadata": {},
     "output_type": "display_data"
    }
   ],
   "source": [
    "t = Dates.now()\n",
    "# Example Data Pulled from just Apple \n",
    "MarketData.yahoo(\"AAPL\", MarketData.YahooOpt(period1 = t - Year(2), period2 = t))"
   ]
  },
  {
   "cell_type": "markdown",
   "metadata": {},
   "source": [
    "Below is code for getting the stock data. We first pull stock prices over a given period and store them in arrays. We then calculate the mean returns and the variance. All of this then can be used to calculate the covariance matrix. Then returns the mean array, zeroMeanRets (just ignore that), and the covariance matrix. "
   ]
  },
  {
   "cell_type": "code",
   "execution_count": 269,
   "metadata": {},
   "outputs": [
    {
     "data": {
      "text/plain": [
       "getStockData (generic function with 1 method)"
      ]
     },
     "metadata": {},
     "output_type": "display_data"
    }
   ],
   "source": [
    "function pct_change(input::AbstractVector{<:Number})\n",
    "    [i == 1 ? missing : (input[i]-input[i-1])/input[i-1] for i in eachindex(input)]\n",
    "end\n",
    "\n",
    "function getStockData(stocks, periodStart, periodEnd)\n",
    "    dataArr = []\n",
    "\n",
    "    for stock in stocks\n",
    "        data = MarketData.yahoo(stock, MarketData.YahooOpt(period1 = periodStart, period2 = periodEnd))\n",
    "        closeValues = values(data[:Close])\n",
    "        push!(dataArr, closeValues)\n",
    "    end\n",
    "    dataDims = [length(dataArr[1]), length(dataArr)]\n",
    "    meanRetsArr = Array{Float64, 2}(undef, 1, dataDims[2])\n",
    "    zeroMeanRetsArr = Array{Float64, 2}(undef, dataDims[1]-1, dataDims[2])\n",
    "    for i in 1:dataDims[2]\n",
    "        rets = pct_change(dataArr[i])[2:end]\n",
    "        meanRet = stats.mean(rets)\n",
    "        meanRetsArr[i] = meanRet\n",
    "\n",
    "        zeroMeanRets = [ret - meanRet for ret in rets]\n",
    "        zeroMeanRetsArr[:, i] = zeroMeanRets\n",
    "    end\n",
    "\n",
    "    covsArr =  transpose(zeroMeanRetsArr) * zeroMeanRetsArr / (length(zeroMeanRetsArr[:, 1]) - 1)\n",
    "    \n",
    "    return vec(meanRetsArr), zeroMeanRetsArr, covsArr\n",
    "    # return meanRetsArr, covars\n",
    "end"
   ]
  },
  {
   "cell_type": "markdown",
   "metadata": {},
   "source": [
    "Starting with the top 10 S&P 500 Stocks"
   ]
  },
  {
   "cell_type": "code",
   "execution_count": null,
   "metadata": {},
   "outputs": [],
   "source": [
    "#stocks you want to check\n",
    "stocks = [\"AAPL\", \"MSFT\", \"AMZN\", \"GOOGL\", \"FB\", \"NVDA\", \"TSLA\", \"UNH\", \"BRK-B\", \"GOOG\"]\n",
    "meanRets, zeroMeanRets, covs = getStockData(stocks, t - Year(5), t - Year(3))\n",
    "println(meanRets)\n",
    "println(covs)"
   ]
  },
  {
   "cell_type": "markdown",
   "metadata": {},
   "source": [
    "# Initial Porfolio Optimizations"
   ]
  },
  {
   "cell_type": "code",
   "execution_count": 65,
   "metadata": {},
   "outputs": [
    {
     "data": {
      "text/plain": [
       "FindInitialPorfolio (generic function with 2 methods)"
      ]
     },
     "metadata": {},
     "output_type": "display_data"
    }
   ],
   "source": [
    "function FindInitialPorfolio(mean, covs, λ, weightRange)\n",
    "\n",
    "    w = Variable(length(mean))\n",
    "    objective = λ*quadform(w, covs)-mean'*w\n",
    "    problem = minimize(objective)\n",
    "\n",
    "    problem.constraints += w .>= weightRange[1]\n",
    "    problem.constraints += w .<= weightRange[2]\n",
    "    problem.constraints += sum(w) == 1\n",
    "\n",
    "    solve!(problem, SCS.Optimizer(verbose = false))\n",
    "    return problem.optval, w.value\n",
    "end"
   ]
  },
  {
   "cell_type": "code",
   "execution_count": 271,
   "metadata": {},
   "outputs": [
    {
     "name": "stdout",
     "output_type": "stream",
     "text": [
      "-0.0011632669824761606\n",
      "It may be optimal to invest 0.046744238636264215 of your portfolio in MSFT\n",
      "It may be optimal to invest 0.4999989284004524 of your portfolio in AMZN\n",
      "It may be optimal to invest 0.4532568742562694 of your portfolio in UNH\n"
     ]
    }
   ],
   "source": [
    "results, w = FindInitialPorfolio(meanRets, covs, 0.8, [0; 1/2])\n",
    "println(results)\n",
    "for i in 1:length(w)\n",
    "    if w[i] > 0.01\n",
    "        print(\"It may be optimal to invest \")\n",
    "        print(w[i])\n",
    "        print(\" of your portfolio in \")\n",
    "        println(stocks[i])\n",
    "    end\n",
    "end\n",
    "#plot(results)"
   ]
  },
  {
   "cell_type": "markdown",
   "metadata": {},
   "source": [
    "-0.0011632669824761606\n",
    "It may be optimal to invest 0.046744238636264215 of your portfolio in MSFT\n",
    "It may be optimal to invest 0.4999989284004524 of your portfolio in AMZN\n",
    "It may be optimal to invest 0.4532568742562694 of your portfolio in UNH"
   ]
  },
  {
   "cell_type": "markdown",
   "metadata": {},
   "source": [
    "# Porfolio Diversification"
   ]
  },
  {
   "cell_type": "code",
   "execution_count": 125,
   "metadata": {},
   "outputs": [],
   "source": [
    "text = \"AAPL\\nMSFT\\nGOOG\\nGOOGL\\nAMZN\\nTSLA\\nFB\\nBRK.B\\nNVDA\\nV\\nJPM\\nUNH\\nJNJ\\nPG\\nWMT\\nBAC\\nHD\\nMA\\nXOM\\nPFE\\nDIS\\nKO\\nCVX\\nCSCO\\nADBE\\nPEP\\nABBV\\nLLY\\nTMO\\nCMCSA\\nAVGO\\nWFC\\nACN\\nNFLX\\nVZ\\nNKE\\nORCL\\nABT\\nCRM\\nCOST\\nINTC\\nMRK\\nPYPL\\nDHR\\nT\\nMCD\\nQCOM\\nMS\\nUPS\\nSCHW\\nLIN\\nNEE\\nTXN\\nPM\\nUNP\\nLOW\\nINTU\\nAMD\\nHON\\nBMY\\nMDT\\nCVS\\nRTX\\nC\\nTMUS\\nAMGN\\nBA\\nBLK\\nAXP\\nAMAT\\nIBM\\nCAT\\nGS\\nPLD\\nDE\\nCOP\\nSBUX\\nAMT\\nANTM\\nEL\\nGE\\nTGT\\nISRG\\nLMT\\nCHTR\\nNOW\\nSPGI\\nMMM\\nBKNG\\nSYK\\nZTS\\nMU\\nMDLZ\\nADP\\nMO\\nPNC\\nLRCX\\nGILD\\nF\\nUSB\\nTFC\\nCB\\nCME\\nTJX\\nMMC\\nCI\\nCSX\\nGM\\nDUK\\nCCI\\nSHW\\nBDX\\nHCA\\nITW\\nEW\\nSO\\nICE\\nNSC\\nCL\\nFISV\\nFIS\\nMRNA\\nFDX\\nEQIX\\nREGN\\nETN\\nMCO\\nWM\\nCOF\\nD\\nATVI\\nAPD\\nFCX\\nNOC\\nPGR\\nBSX\\nPSA\\nECL\\nEOG\\nAON\\nILMN\\nADI\\nGD\\nVRTX\\nKLAC\\nMET\\nEXC\\nEMR\\nADSK\\nNXPI\\nPXD\\nSLB\\nJCI\\nMAR\\nNEM\\nTEL\\nFTNT\\nINFO\\nBK\\nHUM\\nDG\\nAIG\\nSPG\\nKMB\\nSNPS\\nIQV\\nAPH\\nROP\\nCNC\\nXLNX\\nWBA\\nSTZ\\nMNST\\nKHC\\nAEP\\nCTSH\\nMPC\\nDLR\\nLHX\\nORLY\\nPAYX\\nIDXX\\nSRE\\nBAX\\nDOW\\nMSCI\\nPRU\\nDXCM\\nA\\nGPN\\nCDNS\\nCARR\\nHSY\\nDD\\nGIS\\nTT\\nMCHP\\nAFL\\nRSG\\nTRV\\nPH\\nMSI\\nSYY\\nCMG\\nAZO\\nHLT\\nKMI\\nEBAY\\nCTAS\\nEA\\nHPQ\\nALGN\\nADM\\nMCK\\nAPTV\\nSIVB\\nPPG\\nPSX\\nWELL\\nTROW\\nXEL\\nROK\\nYUM\\nIFF\\nODFL\\nWMB\\nOTIS\\nTDG\\nKR\\nSBAC\\nRMD\\nAMP\\nSTT\\nROST\\nALL\\nDFS\\nAVB\\nCTVA\\nMTD\\nMTCH\\nCBRE\\nLVS\\nVLO\\nBIIB\\nPEG\\nEQR\\nTSN\\nDVN\\nOXY\\nKEYS\\nCMI\\nFAST\\nAJG\\nPCAR\\nLYB\\nVRSK\\nFITB\\nAME\\nDHI\\nBF.B\\nARE\\nWEC\\nCPRT\\nNDAQ\\nGLW\\nTWTR\\nES\\nFRC\\nAWK\\nBLL\\nSWK\\nANSS\\nED\\nLEN\\nDLTR\\nWY\\nNUE\\nWTW\\nEFX\\nWST\\nBKR\\nABC\\nEPAM\\nHES\\nO\\nCERN\\nZBRA\\nHRL\\nOKE\\nLUV\\nVFC\\nEXR\\nLH\\nEXPE\\nZBH\\nCDW\\nFTV\\nMKC\\nALB\\nGWW\\nLYV\\nHAL\\nDOV\\nVMC\\nNTRS\\nCHD\\nDAL\\nSYF\\nMLM\\nRJF\\nHIG\\nHBAN\\nEIX\\nVRSN\\nTSCO\\nTER\\nGRMN\\nSWKS\\nIR\\nMAA\\nKEY\\nCCL\\nDTE\\nIT\\nPPL\\nBBY\\nSTE\\nAEE\\nK\\nFE\\nSTX\\nURI\\nCFG\\nETR\\nPKI\\nFANG\\nDRE\\nVIAC\\nESS\\nCLX\\nHPE\\nMTB\\nRF\\nJBHT\\nFOX\\nFOXA\\nCOO\\nRCL\\nSBNY\\nVTR\\nETSY\\nEXPD\\nPAYC\\nPFG\\nNTAP\\nTDY\\nMGM\\nULTA\\nWAT\\nXYL\\nPOOL\\nFLT\\nTTWO\\nPEAK\\nTYL\\nGPC\\nWDC\\nCINF\\nIP\\nMPWR\\nBR\\nAMCR\\nCMS\\nAKAM\\nTRMB\\nBXP\\nENPH\\nBRO\\nNVR\\nCE\\nGNRC\\nVTRS\\nBIO\\nHOLX\\nUDR\\nDISH\\nCTLT\\nDRI\\nWAB\\nKMX\\nCNP\\nCAG\\nDGX\\nAVY\\nCRL\\nINCY\\nDPZ\\nCZR\\nBEN\\nIEX\\nEMN\\nJ\\nCTRA\\nTXT\\nFDS\\nOMC\\nMAS\\nLKQ\\nAES\\nROL\\nMOS\\nSJM\\nNLOK\\nTFX\\nQRVO\\nL\\nLNT\\nTECH\\nEVRG\\nWRB\\nKIM\\nCAH\\nMRO\\nHWM\\nAAP\\nPWR\\nIPG\\nMKTX\\nATO\\nFFIV\\nUAL\\nFMC\\nCF\\nABMD\\nDISCA\\nDISCK\\nBBWI\\nCHRW\\nPTC\\nHAS\\nCPB\\nPHM\\nFBHS\\nLDOS\\nNWS\\nNWSA\\nPKG\\nCBOE\\nCTXS\\nLNC\\nAOS\\nHST\\nLUMN\\nIRM\\nCMA\\nWHR\\nSEDG\\nRHI\\nREG\\nJKHY\\nWRK\\nCDAY\\nXRAY\\nRE\\nAPA\\nSNA\\nDVA\\nNI\\nMHK\\nUHS\\nAAL\\nJNPR\\nALLE\\nTAP\\nPNR\\nBWA\\nIVZ\\nGL\\nHSIC\\nTPR\\nSEE\\nWYNN\\nZION\\nNWL\\nFRT\\nLW\\nNRG\\nANET\\nAIZ\\nPBCT\\nVNO\\nDXC\\nOGN\\nRL\\nPNW\\nIPGP\\nUA\\nUAA\\nHII\\nPENN\\nNLSN\\nPVH\\nALK\\nGPS\\nNCLH\"\n",
    "stocks2 = Vector{String}(split(text, \"\\n\"))\n",
    "for i in 1:length(stocks2)\n",
    "    stocks2[i] = replace(stocks2[i], \".\" => \"-\")\n",
    "end"
   ]
  },
  {
   "cell_type": "code",
   "execution_count": null,
   "metadata": {},
   "outputs": [],
   "source": [
    "diffValue = 10\n",
    "meanRets60, zeroMeanRets60, covs60 = getStockData(stocks2[diffValue:60], t - Year(5), t - Year(3))"
   ]
  },
  {
   "cell_type": "code",
   "execution_count": 410,
   "metadata": {},
   "outputs": [
    {
     "data": {
      "text/plain": [
       "SubsequentPort (generic function with 2 methods)"
      ]
     },
     "metadata": {},
     "output_type": "display_data"
    }
   ],
   "source": [
    "function SubsequentPort(mean, covs, λ, weightRange, r)\n",
    "\n",
    "    w = Variable(length(mean))\n",
    "    objective = λ*quadform(w, covs)-mean'*w+λ*w'*covs*r\n",
    "    problem = minimize(objective)\n",
    "\n",
    "    problem.constraints += w .>= weightRange[1]\n",
    "    problem.constraints += w .<= weightRange[2]\n",
    "    problem.constraints += sum(w) == 1\n",
    "\n",
    "    solve!(problem, SCS.Optimizer(verbose = false))\n",
    "    optValue = λ*w.value[1:end]'*covs*w.value[1:end]-mean'*w.value[1:end]\n",
    "    return optValue, w.value[1:end]\n",
    "end"
   ]
  },
  {
   "cell_type": "code",
   "execution_count": 429,
   "metadata": {},
   "outputs": [],
   "source": [
    "risk = 0.2\n",
    "minCompanies = 1\n",
    "similarCompanyPen = 10\n",
    "penalty = zeros(length(meanRets60))*similarCompanyPen\n",
    "results = [zeros(length(meanRets60)), [0], [0], [0], [0]]\n",
    "optValues = zeros(5)\n",
    "for i in 1:5\n",
    "    opt, newW = SubsequentPort(meanRets60, covs60, risk, [0; 1/minCompanies], penalty)\n",
    "    results[i] = newW\n",
    "    optValues[i] = opt\n",
    "    penalty += abs.(newW)*similarCompanyPen\n",
    "end"
   ]
  },
  {
   "cell_type": "code",
   "execution_count": 430,
   "metadata": {},
   "outputs": [
    {
     "name": "stdout",
     "output_type": "stream",
     "text": [
      "For Portfolio 1: Consider investing in VZ (0.5370896632261059), HON (0.46291037488347825),  for an optValue of -0.0019391357356989113\n",
      "For Portfolio 2: Consider investing in DHR (0.9999999998472113),  for an optValue of -0.0016817929914812147\n",
      "For Portfolio 3: Consider investing in TXN (1.000000000027387),  for an optValue of -0.0008533451967226154\n",
      "For Portfolio 4: Consider investing in TMO (0.4898508737214801), CRM (0.06546915053287419), QCOM (0.17470742562292788), TXN (0.26997334598274564),  for an optValue of -0.000917025173099823\n",
      "For Portfolio 5: Consider investing in CRM (0.0022976026626978243), QCOM (0.33091437077184715), TXN (0.6667876870301028),  for an optValue of -0.0008749411466819875\n"
     ]
    }
   ],
   "source": [
    "for portNum in 1:5\n",
    "    print(\"For Portfolio \")\n",
    "    print(portNum)\n",
    "    print(\": Consider investing in \")\n",
    "    for i in 1:length(results[portNum])\n",
    "        if results[portNum][i] > 0.001\n",
    "            print(stocks2[i+diffValue])\n",
    "            print(\" (\")\n",
    "            print(results[portNum][i])\n",
    "            print(\"), \")\n",
    "        end\n",
    "    end\n",
    "    print(\" for an optValue of \")\n",
    "    println(optValues[portNum])\n",
    "end"
   ]
  },
  {
   "cell_type": "markdown",
   "metadata": {},
   "source": [
    "# Portfolio Evaluation (build portfolios on 2017-2019, test on 2020-2022)"
   ]
  },
  {
   "cell_type": "markdown",
   "metadata": {},
   "source": [
    "### Year 2017-2019 for top 10-100 stocks"
   ]
  },
  {
   "cell_type": "code",
   "execution_count": null,
   "metadata": {},
   "outputs": [],
   "source": [
    "meanRets100, zeroMeanRets100, covs100 = getStockData(stocks2[diffValue:100], t - Year(5), t - Year(3))"
   ]
  },
  {
   "cell_type": "markdown",
   "metadata": {},
   "source": [
    "### Year 2015-2017 for top 10-50 stocks"
   ]
  },
  {
   "cell_type": "code",
   "execution_count": null,
   "metadata": {},
   "outputs": [],
   "source": [
    "meanRetsOld, zeroMeanRetsOld, covsOld = getStockData(stocks2[diffValue:40], t - Year(7), t - Year(5))"
   ]
  },
  {
   "cell_type": "markdown",
   "metadata": {},
   "source": [
    "### Year 2017-2019 for top 10-50 stocks"
   ]
  },
  {
   "cell_type": "code",
   "execution_count": null,
   "metadata": {},
   "outputs": [],
   "source": [
    "meanRetsSmall, zeroMeanRetsSmall, covsSmall = getStockData(stocks2[diffValue:40], t - Year(5), t - Year(3))"
   ]
  },
  {
   "cell_type": "markdown",
   "metadata": {},
   "source": [
    "### See performance of 2015-2017 analysis on 2017-2019 "
   ]
  },
  {
   "cell_type": "code",
   "execution_count": 314,
   "metadata": {},
   "outputs": [
    {
     "name": "stdout",
     "output_type": "stream",
     "text": [
      "[-0.0012382367445030909]"
     ]
    }
   ],
   "source": [
    "optOld, newOptOld = FindInitialPorfolio(meanRetsOld, covsOld, 0.8, [0; 1/3])\n",
    "print(0.8*newOptOld'*covsSmall*newOptOld-meanRetsSmall'*newOptOld)\n"
   ]
  },
  {
   "cell_type": "code",
   "execution_count": 325,
   "metadata": {},
   "outputs": [
    {
     "name": "stdout",
     "output_type": "stream",
     "text": [
      "[-0.0012858804290798807]"
     ]
    }
   ],
   "source": [
    "optSmall, newOptSmall = FindInitialPorfolio(meanRetsSmall, covsSmall, 0.8, [0; 1/3])\n",
    "print(0.8*newOptSmall'*covsOld*newOptSmall-meanRetsOld'*newOptSmall)\n"
   ]
  },
  {
   "cell_type": "markdown",
   "metadata": {},
   "source": [
    "### Fudging Numbers to Guess the Best Portfolio"
   ]
  },
  {
   "cell_type": "code",
   "execution_count": 373,
   "metadata": {},
   "outputs": [
    {
     "data": {
      "text/plain": [
       "(-0.00216081471384127, [-2.7413823764254177e-9; -5.313804031909187e-11; … ; 6.061657167668457e-9; 8.09712669399809e-9])"
      ]
     },
     "metadata": {},
     "output_type": "display_data"
    }
   ],
   "source": [
    "opt100, newOpt100 = FindInitialPorfolio(meanRets100, covs100, 0.8, [0; 1/6]) # Best guess in diverse portfolio\n",
    "opt100s, newOpt100s = FindInitialPorfolio(meanRets100, covs100, 0, [0; 1]) # Investing everything in the current top stock "
   ]
  },
  {
   "cell_type": "markdown",
   "metadata": {},
   "source": [
    "### Running My Best Guess on Years 2019-2022"
   ]
  },
  {
   "cell_type": "code",
   "execution_count": null,
   "metadata": {},
   "outputs": [],
   "source": [
    "meanRetsRecent, zeroMeanRetsRecent, covsRecent = getStockData(stocks2[diffValue:100], t - Year(3), t - Year(0))"
   ]
  },
  {
   "cell_type": "code",
   "execution_count": 387,
   "metadata": {},
   "outputs": [
    {
     "name": "stdout",
     "output_type": "stream",
     "text": [
      "For my diverse portfolio, the objective function results are: -0.0007848650552123236\n",
      "Investing 0.028 in PEP, 0.167 in VZ, 0.167 in DHR, 0.167 in HON, 0.167 in BLK, 0.167 in LMT, 0.139 in SPGI, \n",
      "Yields returns of 84.0%\n",
      "\n",
      "While for the naive investment, the objective function results are: -0.001879938694584764\n",
      "Naive returns are 210.0%\n",
      "By investing 1.0 in HON, "
     ]
    }
   ],
   "source": [
    "print(\"For my diverse portfolio, the objective function results are: \")\n",
    "println((0.8*newOpt100'*covsRecent*newOpt100-meanRetsRecent'*newOpt100)[1])\n",
    "print(\"Investing \")\n",
    "for i in 1:length(newOpt100)\n",
    "    if newOpt100[i] > 0.001\n",
    "        print(round(newOpt100[i], digits = 3))\n",
    "        print(\" in \")\n",
    "        print(stocks2[i+diffValue])\n",
    "        print(\", \")\n",
    "    end\n",
    "end\n",
    "println(\"\")\n",
    "print(\"Yields returns of \")\n",
    "print(round((meanRetsRecent'*newOpt100*3*255)[1]*100))\n",
    "println(\"%\")\n",
    "println(\"\")\n",
    "print(\"While for the naive investment, the objective function results are: \")\n",
    "println((0.8*newOpt100s'*covsRecent*newOpt100s-meanRetsRecent'*newOpt100s)[1])\n",
    "\n",
    "\n",
    "print(\"Naive returns are \")\n",
    "print(round((meanRetsRecent'*newOpt100s*3*255)[1]*100))\n",
    "println(\"%\")\n",
    "print(\"By investing \")\n",
    "for i in 1:length(newOpt100s)\n",
    "    if newOpt100s[i] > 0.001\n",
    "        print(round(newOpt100s[i], digits = 3))\n",
    "        print(\" in \")\n",
    "        print(stocks2[i+diffValue])\n",
    "        print(\", \")\n",
    "    end\n",
    "end"
   ]
  },
  {
   "cell_type": "markdown",
   "metadata": {},
   "source": [
    "# The objective function results are: -0.0007848650552123236\n",
    "# Returns are 84.0%\n",
    "# The average for S&P 500 for the same time frame is 55%"
   ]
  },
  {
   "cell_type": "markdown",
   "metadata": {},
   "source": [
    "Results: I'm quite impressed with how the porfolio preformed. Sadly, Andres beat me with an objective minimum of -0.00096. Though that's pretty close! Obviously we have substantial look back bias, but this does make me want to invest in stocks! Also, it is interesting that the naive solution to invest all your money in the \n",
    "\n",
    "In fudging the numbers in testing years 2015-2017 on 2017-2019, I found that it you could make a similar amount investing most of your money in one company, but our goal was to be able to build a secure stock portfolio. Sometime I'd like to figure out how to generate market crash data and see how our porfolios preform. "
   ]
  }
 ],
 "metadata": {
  "kernelspec": {
   "display_name": "Julia 1.6.2",
   "language": "julia",
   "name": "julia-1.6"
  },
  "language_info": {
   "file_extension": ".jl",
   "mimetype": "application/julia",
   "name": "julia",
   "version": "1.6.2"
  }
 },
 "nbformat": 4,
 "nbformat_minor": 4
}
